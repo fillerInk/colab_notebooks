{
  "nbformat": 4,
  "nbformat_minor": 0,
  "metadata": {
    "colab": {
      "name": "python_basics.ipynb",
      "version": "0.3.2",
      "provenance": [],
      "include_colab_link": true
    },
    "kernelspec": {
      "name": "python3",
      "display_name": "Python 3"
    }
  },
  "cells": [
    {
      "cell_type": "markdown",
      "metadata": {
        "id": "view-in-github",
        "colab_type": "text"
      },
      "source": [
        "<a href=\"https://colab.research.google.com/github/fillerInk/colab_notebooks/blob/master/python_basics.ipynb\" target=\"_parent\"><img src=\"https://colab.research.google.com/assets/colab-badge.svg\" alt=\"Open In Colab\"/></a>"
      ]
    },
    {
      "metadata": {
        "id": "DbC5Vs0EPYfW",
        "colab_type": "text"
      },
      "cell_type": "markdown",
      "source": [
        "# Basic ifs, whiles, functions"
      ]
    },
    {
      "metadata": {
        "id": "XjinZKpiNHkV",
        "colab_type": "code",
        "outputId": "7b9d21cd-7fb6-495f-9415-c86a33e366d4",
        "colab": {
          "base_uri": "https://localhost:8080/",
          "height": 34
        }
      },
      "cell_type": "code",
      "source": [
        "if(False):\n",
        "  print(\"This is inside the block\")\n",
        "  print(\"This is also inside the block\")\n",
        "print(\"This is outside the block\")  "
      ],
      "execution_count": 0,
      "outputs": [
        {
          "output_type": "stream",
          "text": [
            "This is outside the block\n"
          ],
          "name": "stdout"
        }
      ]
    },
    {
      "metadata": {
        "id": "3X5lRBc7NQMb",
        "colab_type": "code",
        "outputId": "fda1b988-7169-453d-ddf0-e21127d4e0a6",
        "colab": {
          "base_uri": "https://localhost:8080/",
          "height": 101
        }
      },
      "cell_type": "code",
      "source": [
        "i = 0\n",
        "while i < 5:\n",
        "  print(i,i**2)\n",
        "  i += 1"
      ],
      "execution_count": 0,
      "outputs": [
        {
          "output_type": "stream",
          "text": [
            "0 0\n",
            "1 1\n",
            "2 4\n",
            "3 9\n",
            "4 16\n"
          ],
          "name": "stdout"
        }
      ]
    },
    {
      "metadata": {
        "id": "xmP-1Ws_Nur2",
        "colab_type": "code",
        "colab": {}
      },
      "cell_type": "code",
      "source": [
        "def print_squares(stopValue,startValue=0):\n",
        "  \"\"\"This funciton prints the squares of a number in a range \"\"\" \n",
        "  for i in range(startValue,stopValue):\n",
        "    print(i,i**2)"
      ],
      "execution_count": 0,
      "outputs": []
    },
    {
      "metadata": {
        "id": "Cf5K-dvaORsL",
        "colab_type": "code",
        "outputId": "91f8fc36-22bf-444c-a485-602725a4768e",
        "colab": {
          "base_uri": "https://localhost:8080/",
          "height": 101
        }
      },
      "cell_type": "code",
      "source": [
        "help(print_squares)"
      ],
      "execution_count": 0,
      "outputs": [
        {
          "output_type": "stream",
          "text": [
            "Help on function print_squares in module __main__:\n",
            "\n",
            "print_squares(stopValue, startValue=0)\n",
            "    This funciton prints the squares of a number in a range\n",
            "\n"
          ],
          "name": "stdout"
        }
      ]
    },
    {
      "metadata": {
        "id": "h-L6YuY6OmAK",
        "colab_type": "code",
        "colab": {}
      },
      "cell_type": "code",
      "source": [
        ""
      ],
      "execution_count": 0,
      "outputs": []
    },
    {
      "metadata": {
        "id": "e7Bqt3HjPdyL",
        "colab_type": "text"
      },
      "cell_type": "markdown",
      "source": [
        "# Lists\n"
      ]
    },
    {
      "metadata": {
        "id": "zHRoADGTPiXg",
        "colab_type": "code",
        "colab": {}
      },
      "cell_type": "code",
      "source": [
        "name = 'Sreeram'\n",
        "age = 19\n",
        "skill = 'python'"
      ],
      "execution_count": 0,
      "outputs": []
    },
    {
      "metadata": {
        "id": "ceL3o-qtPxGl",
        "colab_type": "code",
        "colab": {}
      },
      "cell_type": "code",
      "source": [
        "details = [name,age,skill]"
      ],
      "execution_count": 0,
      "outputs": []
    },
    {
      "metadata": {
        "id": "Fq5C1f9uPzmu",
        "colab_type": "code",
        "outputId": "223cc7fd-80f1-493a-d126-83ad06c43548",
        "colab": {
          "base_uri": "https://localhost:8080/",
          "height": 34
        }
      },
      "cell_type": "code",
      "source": [
        "print(details)"
      ],
      "execution_count": 0,
      "outputs": [
        {
          "output_type": "stream",
          "text": [
            "['Sreeram', 19, 'python']\n"
          ],
          "name": "stdout"
        }
      ]
    },
    {
      "metadata": {
        "id": "0A-l-XCsP03g",
        "colab_type": "code",
        "outputId": "63cfa4a7-3399-455f-eb71-e1463e222912",
        "colab": {
          "base_uri": "https://localhost:8080/",
          "height": 34
        }
      },
      "cell_type": "code",
      "source": [
        "type(details)"
      ],
      "execution_count": 0,
      "outputs": [
        {
          "output_type": "execute_result",
          "data": {
            "text/plain": [
              "list"
            ]
          },
          "metadata": {
            "tags": []
          },
          "execution_count": 18
        }
      ]
    },
    {
      "metadata": {
        "id": "19_zt4j5P49x",
        "colab_type": "code",
        "outputId": "60f179a5-cc27-40d7-aa76-266beb3ab5de",
        "colab": {
          "base_uri": "https://localhost:8080/",
          "height": 34
        }
      },
      "cell_type": "code",
      "source": [
        "details[0]"
      ],
      "execution_count": 0,
      "outputs": [
        {
          "output_type": "execute_result",
          "data": {
            "text/plain": [
              "'Sreeram'"
            ]
          },
          "metadata": {
            "tags": []
          },
          "execution_count": 19
        }
      ]
    },
    {
      "metadata": {
        "id": "VIfhoEaxQEFK",
        "colab_type": "code",
        "outputId": "335b0e6a-0381-4215-b12a-4dd8cb03825f",
        "colab": {
          "base_uri": "https://localhost:8080/",
          "height": 34
        }
      },
      "cell_type": "code",
      "source": [
        "details"
      ],
      "execution_count": 0,
      "outputs": [
        {
          "output_type": "execute_result",
          "data": {
            "text/plain": [
              "['Sreeram', 19, 'python']"
            ]
          },
          "metadata": {
            "tags": []
          },
          "execution_count": 20
        }
      ]
    },
    {
      "metadata": {
        "id": "Z8KfIm8IQFUr",
        "colab_type": "code",
        "outputId": "3bed85f9-497e-461c-bc93-60234fc3dc84",
        "colab": {
          "base_uri": "https://localhost:8080/",
          "height": 34
        }
      },
      "cell_type": "code",
      "source": [
        "details[0:1]"
      ],
      "execution_count": 0,
      "outputs": [
        {
          "output_type": "execute_result",
          "data": {
            "text/plain": [
              "['Sreeram']"
            ]
          },
          "metadata": {
            "tags": []
          },
          "execution_count": 21
        }
      ]
    },
    {
      "metadata": {
        "id": "j0cpUSQsQHZM",
        "colab_type": "code",
        "outputId": "67bd9633-e3ca-4eb1-d8cb-fc265093e008",
        "colab": {
          "base_uri": "https://localhost:8080/",
          "height": 34
        }
      },
      "cell_type": "code",
      "source": [
        "details[0:2]"
      ],
      "execution_count": 0,
      "outputs": [
        {
          "output_type": "execute_result",
          "data": {
            "text/plain": [
              "['Sreeram', 19]"
            ]
          },
          "metadata": {
            "tags": []
          },
          "execution_count": 22
        }
      ]
    },
    {
      "metadata": {
        "id": "Rw6B_Q2MQJTy",
        "colab_type": "code",
        "outputId": "9fa2324b-768d-4f58-b37f-cbb1583df220",
        "colab": {
          "base_uri": "https://localhost:8080/",
          "height": 67
        }
      },
      "cell_type": "code",
      "source": [
        "for data in details:\n",
        "  print(data)"
      ],
      "execution_count": 0,
      "outputs": [
        {
          "output_type": "stream",
          "text": [
            "Sreeram\n",
            "19\n",
            "python\n"
          ],
          "name": "stdout"
        }
      ]
    },
    {
      "metadata": {
        "id": "1OfthCJbQ4YL",
        "colab_type": "code",
        "outputId": "3a1f7252-5652-49df-b868-c0944fb45bb2",
        "colab": {
          "base_uri": "https://localhost:8080/",
          "height": 34
        }
      },
      "cell_type": "code",
      "source": [
        "a = [0,1,2,3,4]\n",
        "b = list(map(lambda x: x**2 ,a))\n",
        "b"
      ],
      "execution_count": 0,
      "outputs": [
        {
          "output_type": "execute_result",
          "data": {
            "text/plain": [
              "[0, 1, 4, 9, 16]"
            ]
          },
          "metadata": {
            "tags": []
          },
          "execution_count": 27
        }
      ]
    },
    {
      "metadata": {
        "id": "_1uj7EXFSBZE",
        "colab_type": "code",
        "outputId": "02e931c6-1170-4c38-a5e2-771c77bfddfa",
        "colab": {
          "base_uri": "https://localhost:8080/",
          "height": 34
        }
      },
      "cell_type": "code",
      "source": [
        "c = list(filter(lambda x:x%2==0,b))\n",
        "c"
      ],
      "execution_count": 0,
      "outputs": [
        {
          "output_type": "execute_result",
          "data": {
            "text/plain": [
              "[0, 4, 16]"
            ]
          },
          "metadata": {
            "tags": []
          },
          "execution_count": 28
        }
      ]
    },
    {
      "metadata": {
        "id": "PedrTA5fSfUI",
        "colab_type": "code",
        "colab": {}
      },
      "cell_type": "code",
      "source": [
        ""
      ],
      "execution_count": 0,
      "outputs": []
    },
    {
      "metadata": {
        "id": "Ww41fp_CS7ZX",
        "colab_type": "text"
      },
      "cell_type": "markdown",
      "source": [
        "#Tuples, Sets, Dictionaries"
      ]
    },
    {
      "metadata": {
        "id": "33RgE8tkS_05",
        "colab_type": "code",
        "outputId": "42f7d5cd-47ab-4543-d3f7-7ce9ad5742e0",
        "colab": {
          "base_uri": "https://localhost:8080/",
          "height": 34
        }
      },
      "cell_type": "code",
      "source": [
        "myTuple = ('Sreeram',19,'python')\n",
        "myTuple           "
      ],
      "execution_count": 0,
      "outputs": [
        {
          "output_type": "execute_result",
          "data": {
            "text/plain": [
              "('Sreeram', 19, 'python')"
            ]
          },
          "metadata": {
            "tags": []
          },
          "execution_count": 35
        }
      ]
    },
    {
      "metadata": {
        "id": "4AFJ1xHfT_bt",
        "colab_type": "text"
      },
      "cell_type": "markdown",
      "source": [
        ""
      ]
    },
    {
      "metadata": {
        "id": "RXehU0iPTy2S",
        "colab_type": "text"
      },
      "cell_type": "markdown",
      "source": [
        "#### Tuples are silimar to lists, but the only difference is that the elements are immutable and once assigned, cannot be changed"
      ]
    },
    {
      "metadata": {
        "id": "DahgzjHHTaSf",
        "colab_type": "code",
        "outputId": "87bb4709-2c5f-4685-e550-95bad4c546ec",
        "colab": {
          "base_uri": "https://localhost:8080/",
          "height": 34
        }
      },
      "cell_type": "code",
      "source": [
        "details = ['Sreeram',19,'python']\n",
        "my_set = set(details)\n",
        "my_set"
      ],
      "execution_count": 0,
      "outputs": [
        {
          "output_type": "execute_result",
          "data": {
            "text/plain": [
              "{19, 'Sreeram', 'python'}"
            ]
          },
          "metadata": {
            "tags": []
          },
          "execution_count": 3
        }
      ]
    },
    {
      "metadata": {
        "id": "Hpwa1KnR2FGi",
        "colab_type": "text"
      },
      "cell_type": "markdown",
      "source": [
        "#Packages\n"
      ]
    },
    {
      "metadata": {
        "id": "2bz4uZXl2KAk",
        "colab_type": "code",
        "colab": {}
      },
      "cell_type": "code",
      "source": [
        "import math as m\n",
        "from math import factorial"
      ],
      "execution_count": 0,
      "outputs": []
    },
    {
      "metadata": {
        "id": "q106PF9O2SWA",
        "colab_type": "code",
        "outputId": "43587b8f-bfea-4a85-bbfb-6544227c5539",
        "colab": {
          "base_uri": "https://localhost:8080/",
          "height": 34
        }
      },
      "cell_type": "code",
      "source": [
        "x = factorial(10)\n",
        "x"
      ],
      "execution_count": 0,
      "outputs": [
        {
          "output_type": "execute_result",
          "data": {
            "text/plain": [
              "3628800"
            ]
          },
          "metadata": {
            "tags": []
          },
          "execution_count": 8
        }
      ]
    },
    {
      "metadata": {
        "id": "7iiPYMTR2VXB",
        "colab_type": "code",
        "colab": {}
      },
      "cell_type": "code",
      "source": [
        "!echo 'def my_package():' > my_package.py"
      ],
      "execution_count": 0,
      "outputs": []
    },
    {
      "metadata": {
        "id": "AfgUI1cY3yIG",
        "colab_type": "code",
        "colab": {}
      },
      "cell_type": "code",
      "source": [
        "!echo '  print(\"This is inside the module\")' >> my_package.py"
      ],
      "execution_count": 0,
      "outputs": []
    },
    {
      "metadata": {
        "id": "WCvAuZLj4Lqa",
        "colab_type": "code",
        "outputId": "c74dd5d8-6d38-4ad2-8834-ebc45d399a4c",
        "colab": {
          "base_uri": "https://localhost:8080/",
          "height": 313
        }
      },
      "cell_type": "code",
      "source": [
        "import my_package.py \n",
        "my_package.my_package()"
      ],
      "execution_count": 0,
      "outputs": [
        {
          "output_type": "error",
          "ename": "ModuleNotFoundError",
          "evalue": "ignored",
          "traceback": [
            "\u001b[0;31m---------------------------------------------------------------------------\u001b[0m",
            "\u001b[0;31mModuleNotFoundError\u001b[0m                       Traceback (most recent call last)",
            "\u001b[0;32m<ipython-input-19-2fc253f65655>\u001b[0m in \u001b[0;36m<module>\u001b[0;34m()\u001b[0m\n\u001b[0;32m----> 1\u001b[0;31m \u001b[0;32mimport\u001b[0m \u001b[0mmy_package\u001b[0m\u001b[0;34m.\u001b[0m\u001b[0mpy\u001b[0m\u001b[0;34m\u001b[0m\u001b[0;34m\u001b[0m\u001b[0m\n\u001b[0m\u001b[1;32m      2\u001b[0m \u001b[0mmy_package\u001b[0m\u001b[0;34m.\u001b[0m\u001b[0mmy_package\u001b[0m\u001b[0;34m(\u001b[0m\u001b[0;34m)\u001b[0m\u001b[0;34m\u001b[0m\u001b[0;34m\u001b[0m\u001b[0m\n",
            "\u001b[0;31mModuleNotFoundError\u001b[0m: No module named 'my_package.py'; 'my_package' is not a package",
            "",
            "\u001b[0;31m---------------------------------------------------------------------------\u001b[0;32m\nNOTE: If your import is failing due to a missing package, you can\nmanually install dependencies using either !pip or !apt.\n\nTo view examples of installing some common dependencies, click the\n\"Open Examples\" button below.\n\u001b[0;31m---------------------------------------------------------------------------\u001b[0m\n"
          ]
        }
      ]
    },
    {
      "metadata": {
        "id": "n0yk7hbB46Ln",
        "colab_type": "text"
      },
      "cell_type": "markdown",
      "source": [
        "# File handling"
      ]
    },
    {
      "metadata": {
        "id": "gcvuDTh549vJ",
        "colab_type": "code",
        "outputId": "be16683a-694d-461f-e7b2-4b3be208f2b9",
        "colab": {
          "base_uri": "https://localhost:8080/",
          "height": 202
        }
      },
      "cell_type": "code",
      "source": [
        "!wget https://en.wikipedia.org/wiki/Spinal_cord"
      ],
      "execution_count": 0,
      "outputs": [
        {
          "output_type": "stream",
          "text": [
            "--2019-02-03 15:20:11--  https://en.wikipedia.org/wiki/Spinal_cord\n",
            "Resolving en.wikipedia.org (en.wikipedia.org)... 198.35.26.96, 2620:0:861:ed1a::1\n",
            "Connecting to en.wikipedia.org (en.wikipedia.org)|198.35.26.96|:443... connected.\n",
            "HTTP request sent, awaiting response... 200 OK\n",
            "Length: 196374 (192K) [text/html]\n",
            "Saving to: ‘Spinal_cord’\n",
            "\n",
            "\rSpinal_cord           0%[                    ]       0  --.-KB/s               \rSpinal_cord         100%[===================>] 191.77K  --.-KB/s    in 0.07s   \n",
            "\n",
            "2019-02-03 15:20:11 (2.70 MB/s) - ‘Spinal_cord’ saved [196374/196374]\n",
            "\n"
          ],
          "name": "stdout"
        }
      ]
    },
    {
      "metadata": {
        "id": "Zhx57uzS8gjn",
        "colab_type": "code",
        "outputId": "48f11b58-090f-499d-f338-1fd5c60c7e45",
        "colab": {
          "base_uri": "https://localhost:8080/",
          "height": 34
        }
      },
      "cell_type": "code",
      "source": [
        "!ls\n"
      ],
      "execution_count": 0,
      "outputs": [
        {
          "output_type": "stream",
          "text": [
            "my_package.py  __pycache__  sample_data  Spinal_cord\n"
          ],
          "name": "stdout"
        }
      ]
    },
    {
      "metadata": {
        "id": "51RdJsao8k_F",
        "colab_type": "code",
        "colab": {}
      },
      "cell_type": "code",
      "source": [
        "file = open('Spinal_cord','r')"
      ],
      "execution_count": 0,
      "outputs": []
    },
    {
      "metadata": {
        "id": "DmldA8HD8vpz",
        "colab_type": "code",
        "colab": {}
      },
      "cell_type": "code",
      "source": [
        "s = file.readline()"
      ],
      "execution_count": 0,
      "outputs": []
    },
    {
      "metadata": {
        "id": "SsTa8Nn-8z11",
        "colab_type": "code",
        "outputId": "846e206a-3cae-4660-8a30-052252b3fb2f",
        "colab": {
          "base_uri": "https://localhost:8080/",
          "height": 50
        }
      },
      "cell_type": "code",
      "source": [
        "print(s)"
      ],
      "execution_count": 0,
      "outputs": [
        {
          "output_type": "stream",
          "text": [
            "<!DOCTYPE html>\n",
            "\n"
          ],
          "name": "stdout"
        }
      ]
    },
    {
      "metadata": {
        "id": "OMhalccn80qO",
        "colab_type": "code",
        "colab": {}
      },
      "cell_type": "code",
      "source": [
        "d = file.read()\n",
        "print(d)"
      ],
      "execution_count": 0,
      "outputs": []
    },
    {
      "metadata": {
        "id": "jBrKi3yXDMFk",
        "colab_type": "text"
      },
      "cell_type": "markdown",
      "source": [
        "# matplotlib"
      ]
    },
    {
      "metadata": {
        "id": "Qw8LhlnXDPly",
        "colab_type": "code",
        "colab": {}
      },
      "cell_type": "code",
      "source": [
        "import numpy as np\n",
        "import matplotlib.pyplot as plt"
      ],
      "execution_count": 0,
      "outputs": []
    },
    {
      "metadata": {
        "id": "5Ywmw_cVDeLn",
        "colab_type": "code",
        "outputId": "0dc943ad-ddb6-43eb-b611-397eb63d71c1",
        "colab": {
          "base_uri": "https://localhost:8080/",
          "height": 185
        }
      },
      "cell_type": "code",
      "source": [
        "x = np.random.random((10,1))\n",
        "print(x)"
      ],
      "execution_count": 0,
      "outputs": [
        {
          "output_type": "stream",
          "text": [
            "[[0.035814  ]\n",
            " [0.08211135]\n",
            " [0.95167547]\n",
            " [0.82001664]\n",
            " [0.97334003]\n",
            " [0.40874732]\n",
            " [0.60629527]\n",
            " [0.19489409]\n",
            " [0.14390664]\n",
            " [0.71730345]]\n"
          ],
          "name": "stdout"
        }
      ]
    },
    {
      "metadata": {
        "id": "TttxQ512Dqd3",
        "colab_type": "code",
        "outputId": "4de3cf61-8cdd-4d37-9ea3-59498b68f98c",
        "colab": {
          "base_uri": "https://localhost:8080/",
          "height": 347
        }
      },
      "cell_type": "code",
      "source": [
        "plt.plot(x,'*-')\n",
        "plt.show()"
      ],
      "execution_count": 0,
      "outputs": [
        {
          "output_type": "display_data",
          "data": {
            "image/png": "[encoded data removed]",
            "text/plain": [
              "<Figure size 576x396 with 1 Axes>"
            ]
          },
          "metadata": {
            "tags": []
          }
        }
      ]
    },
    {
      "metadata": {
        "id": "52dy61n0Dwx2",
        "colab_type": "code",
        "outputId": "2127d525-0ebe-45b7-8dff-242e6a916959",
        "colab": {
          "base_uri": "https://localhost:8080/",
          "height": 364
        }
      },
      "cell_type": "code",
      "source": [
        "x = np.linspace(0,10,100)\n",
        "y = np.power(x, 0.5)\n",
        "plt.plot(x,y)\n",
        "plt.show"
      ],
      "execution_count": 0,
      "outputs": [
        {
          "output_type": "execute_result",
          "data": {
            "text/plain": [
              "<function matplotlib.pyplot.show>"
            ]
          },
          "metadata": {
            "tags": []
          },
          "execution_count": 39
        },
        {
          "output_type": "display_data",
          "data": {
            "image/png": "[encoded data removed]",
            "text/plain": [
              "<Figure size 576x396 with 1 Axes>"
            ]
          },
          "metadata": {
            "tags": []
          }
        }
      ]
    },
    {
      "metadata": {
        "id": "32SbCo-xEwtc",
        "colab_type": "code",
        "colab": {}
      },
      "cell_type": "code",
      "source": [
        ""
      ],
      "execution_count": 0,
      "outputs": []
    }
  ]
}